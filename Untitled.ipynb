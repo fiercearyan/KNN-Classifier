{
 "cells": [
  {
   "cell_type": "code",
   "execution_count": 33,
   "metadata": {},
   "outputs": [],
   "source": [
    "import numpy as np\n",
    "import pandas as pd\n",
    "import matplotlib.pyplot as plt"
   ]
  },
  {
   "cell_type": "code",
   "execution_count": 34,
   "metadata": {},
   "outputs": [
    {
     "data": {
      "text/html": [
       "<div>\n",
       "<style scoped>\n",
       "    .dataframe tbody tr th:only-of-type {\n",
       "        vertical-align: middle;\n",
       "    }\n",
       "\n",
       "    .dataframe tbody tr th {\n",
       "        vertical-align: top;\n",
       "    }\n",
       "\n",
       "    .dataframe thead th {\n",
       "        text-align: right;\n",
       "    }\n",
       "</style>\n",
       "<table border=\"1\" class=\"dataframe\">\n",
       "  <thead>\n",
       "    <tr style=\"text-align: right;\">\n",
       "      <th></th>\n",
       "      <th>User ID</th>\n",
       "      <th>Gender</th>\n",
       "      <th>Age</th>\n",
       "      <th>EstimatedSalary</th>\n",
       "      <th>Purchased</th>\n",
       "    </tr>\n",
       "  </thead>\n",
       "  <tbody>\n",
       "    <tr>\n",
       "      <th>0</th>\n",
       "      <td>15624510</td>\n",
       "      <td>Male</td>\n",
       "      <td>19</td>\n",
       "      <td>19000</td>\n",
       "      <td>0</td>\n",
       "    </tr>\n",
       "    <tr>\n",
       "      <th>1</th>\n",
       "      <td>15810944</td>\n",
       "      <td>Male</td>\n",
       "      <td>35</td>\n",
       "      <td>20000</td>\n",
       "      <td>0</td>\n",
       "    </tr>\n",
       "    <tr>\n",
       "      <th>2</th>\n",
       "      <td>15668575</td>\n",
       "      <td>Female</td>\n",
       "      <td>26</td>\n",
       "      <td>43000</td>\n",
       "      <td>0</td>\n",
       "    </tr>\n",
       "    <tr>\n",
       "      <th>3</th>\n",
       "      <td>15603246</td>\n",
       "      <td>Female</td>\n",
       "      <td>27</td>\n",
       "      <td>57000</td>\n",
       "      <td>0</td>\n",
       "    </tr>\n",
       "    <tr>\n",
       "      <th>4</th>\n",
       "      <td>15804002</td>\n",
       "      <td>Male</td>\n",
       "      <td>19</td>\n",
       "      <td>76000</td>\n",
       "      <td>0</td>\n",
       "    </tr>\n",
       "  </tbody>\n",
       "</table>\n",
       "</div>"
      ],
      "text/plain": [
       "    User ID  Gender  Age  EstimatedSalary  Purchased\n",
       "0  15624510    Male   19            19000          0\n",
       "1  15810944    Male   35            20000          0\n",
       "2  15668575  Female   26            43000          0\n",
       "3  15603246  Female   27            57000          0\n",
       "4  15804002    Male   19            76000          0"
      ]
     },
     "execution_count": 34,
     "metadata": {},
     "output_type": "execute_result"
    }
   ],
   "source": [
    "data = pd.read_csv('Social_Network_Ads.csv')\n",
    "data.head()"
   ]
  },
  {
   "cell_type": "code",
   "execution_count": 35,
   "metadata": {},
   "outputs": [
    {
     "data": {
      "text/plain": [
       "(400, 2)"
      ]
     },
     "execution_count": 35,
     "metadata": {},
     "output_type": "execute_result"
    }
   ],
   "source": [
    "X = data.iloc[:,2:4].values\n",
    "X.shape"
   ]
  },
  {
   "cell_type": "code",
   "execution_count": 36,
   "metadata": {},
   "outputs": [
    {
     "data": {
      "text/plain": [
       "(400,)"
      ]
     },
     "execution_count": 36,
     "metadata": {},
     "output_type": "execute_result"
    }
   ],
   "source": [
    "y = data.iloc[:,-1].values\n",
    "y.shape"
   ]
  },
  {
   "cell_type": "code",
   "execution_count": 37,
   "metadata": {},
   "outputs": [],
   "source": [
    "from sklearn.model_selection import train_test_split\n",
    "X_train,X_test,y_train,y_test=train_test_split(X, y, test_size=0.20)"
   ]
  },
  {
   "cell_type": "code",
   "execution_count": 38,
   "metadata": {},
   "outputs": [
    {
     "name": "stdout",
     "output_type": "stream",
     "text": [
      "(320, 2)\n",
      "(80, 2)\n"
     ]
    }
   ],
   "source": [
    "print(X_train.shape)\n",
    "print(X_test.shape)"
   ]
  },
  {
   "cell_type": "code",
   "execution_count": 39,
   "metadata": {},
   "outputs": [],
   "source": [
    "from sklearn.preprocessing import StandardScaler\n",
    "scaler = StandardScaler()"
   ]
  },
  {
   "cell_type": "code",
   "execution_count": 40,
   "metadata": {},
   "outputs": [
    {
     "data": {
      "text/plain": [
       "array([[ 0.59456943,  2.06098756],\n",
       "       [-1.58581473,  0.08267572],\n",
       "       [ 0.87896736, -1.45273049],\n",
       "       [-0.25862437, -0.47833809],\n",
       "       [ 0.3101715 ,  0.08267572],\n",
       "       [ 2.11135841, -0.80313555],\n",
       "       [-1.11181817, -0.50786513],\n",
       "       [ 0.78416805,  0.79132474],\n",
       "       [ 0.49977012,  1.76571714],\n",
       "       [ 0.87896736, -1.30509527],\n",
       "       [-0.82742024,  0.40747319],\n",
       "       [ 2.0165591 ,  0.40747319],\n",
       "       [-0.82742024, -0.65550034],\n",
       "       [ 0.49977012,  1.26375741],\n",
       "       [-1.01701886,  0.58463544],\n",
       "       [-0.25862437, -1.3936764 ],\n",
       "       [-0.25862437,  0.5551084 ],\n",
       "       [ 0.3101715 , -1.15746006],\n",
       "       [-1.20661748, -1.3936764 ],\n",
       "       [-0.63782162, -1.03935189],\n",
       "       [-1.11181817,  0.3484191 ],\n",
       "       [-1.77541335,  0.46652727],\n",
       "       [-0.63782162, -0.33070287],\n",
       "       [-0.06902575, -0.36022992],\n",
       "       [-0.16382506, -1.06887893],\n",
       "       [-1.20661748,  0.52558135],\n",
       "       [ 0.40497081, -0.44881104],\n",
       "       [-1.11181817, -1.54131161],\n",
       "       [-1.11181817, -1.57083866],\n",
       "       [-0.44822299, -0.53739217],\n",
       "       [ 1.63736185, -0.89171668],\n",
       "       [ 0.97376667, -1.1869871 ],\n",
       "       [ 0.02577356,  1.26375741],\n",
       "       [ 1.92175979, -0.65550034],\n",
       "       [ 1.82696047, -1.06887893],\n",
       "       [ 0.3101715 ,  0.08267572],\n",
       "       [-0.92221955,  1.58855488],\n",
       "       [-0.25862437, -0.65550034],\n",
       "       [-1.77541335, -1.42320344],\n",
       "       [-1.77541335, -1.30509527],\n",
       "       [ 0.21537218, -0.36022992],\n",
       "       [ 0.87896736,  2.20862277],\n",
       "       [-1.30141679, -1.36414936],\n",
       "       [-0.63782162,  0.1417298 ],\n",
       "       [-1.3962161 , -1.21651415],\n",
       "       [ 1.54256254, -1.27556823],\n",
       "       [-1.68061404, -1.36414936],\n",
       "       [-0.25862437,  0.17125685],\n",
       "       [-1.49101542,  0.3484191 ],\n",
       "       [-0.06902575,  0.23031093],\n",
       "       [-0.06902575,  0.25983797],\n",
       "       [-1.01701886,  2.00193347],\n",
       "       [ 0.21537218,  1.1161222 ],\n",
       "       [ 2.0165591 , -0.80313555],\n",
       "       [ 0.40497081, -0.15354062],\n",
       "       [ 0.02577356, -0.30117583],\n",
       "       [ 0.87896736, -1.03935189],\n",
       "       [-0.92221955, -0.30117583],\n",
       "       [-1.11181817,  0.43700023],\n",
       "       [ 1.35296392,  2.38578503],\n",
       "       [-1.01701886, -0.33070287],\n",
       "       [-1.87021266,  0.49605431],\n",
       "       [ 1.92175979,  2.20862277],\n",
       "       [-0.63782162,  0.05314868],\n",
       "       [-0.16382506, -0.50786513],\n",
       "       [-0.25862437, -1.36414936],\n",
       "       [-1.3962161 , -0.18306766],\n",
       "       [-1.58581473, -1.57083866],\n",
       "       [-0.73262093,  0.52558135],\n",
       "       [ 0.87896736, -0.53739217],\n",
       "       [ 0.3101715 , -0.50786513],\n",
       "       [-1.30141679, -1.24604119],\n",
       "       [-1.20661748,  0.31889206],\n",
       "       [-0.16382506, -0.56691921],\n",
       "       [-1.30141679, -1.09840598],\n",
       "       [ 0.68936874, -1.3936764 ],\n",
       "       [-0.25862437, -0.56691921],\n",
       "       [-1.01701886,  0.61416248],\n",
       "       [-0.06902575,  0.02362163],\n",
       "       [ 1.92175979, -1.36414936],\n",
       "       [ 1.63736185,  1.79524418],\n",
       "       [ 1.82696047,  1.55902784],\n",
       "       [ 2.11135841, -1.03935189],\n",
       "       [-0.92221955,  0.43700023],\n",
       "       [-1.49101542, -1.24604119],\n",
       "       [ 0.12057287,  0.17125685],\n",
       "       [ 1.82696047, -0.27164879],\n",
       "       [ 1.44776323,  0.08267572],\n",
       "       [ 1.06856599,  0.1417298 ],\n",
       "       [ 0.97376667, -1.00982485],\n",
       "       [-1.30141679, -0.33070287],\n",
       "       [-1.11181817, -0.77360851],\n",
       "       [-0.5430223 ,  1.41139263],\n",
       "       [ 0.78416805, -1.09840598],\n",
       "       [ 0.87896736, -0.56691921],\n",
       "       [ 0.78416805, -0.8326626 ],\n",
       "       [-0.35342368,  1.35233854],\n",
       "       [-0.35342368,  0.08267572],\n",
       "       [ 1.44776323,  1.02754108],\n",
       "       [-1.77541335, -1.27556823],\n",
       "       [-0.35342368, -0.77360851],\n",
       "       [ 1.44776323,  0.37794614],\n",
       "       [ 0.3101715 ,  0.05314868],\n",
       "       [-0.5430223 ,  1.49997375],\n",
       "       [ 0.87896736, -0.77360851],\n",
       "       [-1.87021266, -0.03543245],\n",
       "       [ 0.78416805, -1.36414936],\n",
       "       [ 0.21537218,  0.08267572],\n",
       "       [ 1.06856599, -1.21651415],\n",
       "       [ 0.78416805,  1.41139263],\n",
       "       [-0.63782162,  0.20078389],\n",
       "       [ 0.40497081,  0.31889206],\n",
       "       [-0.25862437, -0.27164879],\n",
       "       [-0.16382506,  2.20862277],\n",
       "       [-0.06902575, -0.50786513],\n",
       "       [ 0.02577356, -0.419284  ],\n",
       "       [ 1.54256254,  1.14564924],\n",
       "       [ 0.40497081, -0.44881104],\n",
       "       [ 0.21537218, -0.36022992],\n",
       "       [ 2.0165591 ,  1.79524418],\n",
       "       [ 0.12057287,  1.91335235],\n",
       "       [-0.25862437, -0.30117583],\n",
       "       [ 0.12057287,  0.05314868],\n",
       "       [ 1.06856599,  0.58463544],\n",
       "       [-0.06902575,  0.08267572],\n",
       "       [ 1.73216116,  1.02754108],\n",
       "       [-0.06902575,  0.1417298 ],\n",
       "       [ 0.87896736, -1.15746006],\n",
       "       [ 0.12057287,  1.55902784],\n",
       "       [ 0.40497081, -0.47833809],\n",
       "       [ 0.78416805, -1.21651415],\n",
       "       [ 0.87896736, -0.65550034],\n",
       "       [-1.20661748,  0.28936502],\n",
       "       [ 1.35296392,  1.3228115 ],\n",
       "       [-0.73262093,  1.94287939],\n",
       "       [-0.82742024,  0.40747319],\n",
       "       [ 0.3101715 , -0.53739217],\n",
       "       [-0.73262093, -0.21259471],\n",
       "       [ 0.40497081,  0.11220276],\n",
       "       [-1.20661748,  0.61416248],\n",
       "       [ 0.3101715 ,  0.31889206],\n",
       "       [ 0.68936874, -1.3936764 ],\n",
       "       [ 2.11135841,  1.14564924],\n",
       "       [-0.25862437,  0.23031093],\n",
       "       [-0.25862437,  0.28936502],\n",
       "       [-0.82742024, -0.77360851],\n",
       "       [ 2.11135841,  0.96848699],\n",
       "       [ 0.97376667, -1.06887893],\n",
       "       [ 0.21537218,  0.17125685],\n",
       "       [ 1.1633653 , -0.74408147],\n",
       "       [-0.44822299, -0.77360851],\n",
       "       [ 0.3101715 , -0.27164879],\n",
       "       [ 1.82696047, -1.27556823],\n",
       "       [-0.5430223 ,  1.94287939],\n",
       "       [ 1.54256254,  0.02362163],\n",
       "       [ 0.02577356, -0.12401358],\n",
       "       [-1.11181817,  0.31889206],\n",
       "       [ 0.02577356, -0.24212175],\n",
       "       [ 0.02577356,  1.29328446],\n",
       "       [ 0.3101715 ,  0.28936502],\n",
       "       [-1.11181817, -1.09840598],\n",
       "       [-0.25862437,  0.08267572],\n",
       "       [ 0.97376667,  2.03146052],\n",
       "       [ 1.06856599, -1.21651415],\n",
       "       [-1.3962161 ,  0.37794614],\n",
       "       [-1.68061404, -0.59644626],\n",
       "       [ 0.12057287,  0.79132474],\n",
       "       [-0.06902575, -1.06887893],\n",
       "       [-0.5430223 ,  2.38578503],\n",
       "       [-1.68061404,  0.37794614],\n",
       "       [-1.01701886,  0.43700023],\n",
       "       [ 1.06856599,  0.5551084 ],\n",
       "       [ 1.82696047,  0.1417298 ],\n",
       "       [ 0.12057287,  0.05314868],\n",
       "       [ 0.40497081,  1.02754108],\n",
       "       [ 0.3101715 ,  0.08267572],\n",
       "       [ 0.12057287, -0.80313555],\n",
       "       [-0.06902575,  0.05314868],\n",
       "       [ 2.0165591 ,  0.20078389],\n",
       "       [-1.01701886, -0.44881104],\n",
       "       [ 1.06856599, -0.12401358],\n",
       "       [ 0.97376667, -1.06887893],\n",
       "       [ 0.02577356, -0.53739217],\n",
       "       [-1.30141679, -0.419284  ],\n",
       "       [ 0.21537218, -0.36022992],\n",
       "       [ 1.35296392, -0.92124372],\n",
       "       [-0.25862437,  1.14564924],\n",
       "       [-0.16382506,  1.64760897],\n",
       "       [-0.92221955,  0.52558135],\n",
       "       [-0.25862437, -0.419284  ],\n",
       "       [-0.25862437,  0.82085178],\n",
       "       [-0.44822299, -0.00590541],\n",
       "       [ 0.78416805,  0.5551084 ],\n",
       "       [ 0.21537218, -0.30117583],\n",
       "       [-0.25862437, -0.12401358],\n",
       "       [-0.44822299,  2.35625798],\n",
       "       [-0.73262093,  0.28936502],\n",
       "       [ 0.40497081,  1.14564924],\n",
       "       [ 0.3101715 , -0.30117583],\n",
       "       [-1.68061404,  0.1417298 ],\n",
       "       [ 2.0165591 ,  0.5551084 ],\n",
       "       [ 0.97376667,  0.61416248],\n",
       "       [-0.63782162,  1.44091967],\n",
       "       [ 0.3101715 , -0.18306766],\n",
       "       [ 0.21537218, -0.65550034],\n",
       "       [ 0.21537218, -0.12401358],\n",
       "       [-1.01701886,  0.5551084 ],\n",
       "       [ 2.11135841, -0.80313555],\n",
       "       [-0.25862437,  0.11220276],\n",
       "       [ 1.54256254,  1.02754108],\n",
       "       [-0.44822299,  1.29328446],\n",
       "       [ 1.25816461, -1.36414936],\n",
       "       [ 0.3101715 ,  0.52558135],\n",
       "       [-0.92221955, -1.09840598],\n",
       "       [-1.11181817,  1.44091967],\n",
       "       [ 1.25816461,  2.26767686],\n",
       "       [ 1.06856599, -0.98029781],\n",
       "       [-0.16382506, -0.27164879],\n",
       "       [ 0.68936874, -1.09840598],\n",
       "       [ 1.1633653 , -1.45273049],\n",
       "       [-0.25862437, -1.45273049],\n",
       "       [ 0.21537218, -0.24212175],\n",
       "       [-0.82742024, -1.21651415],\n",
       "       [ 1.1633653 , -0.98029781],\n",
       "       [ 0.21537218,  2.14956869],\n",
       "       [-1.11181817,  0.08267572],\n",
       "       [-1.68061404,  0.49605431],\n",
       "       [ 0.87896736, -1.36414936],\n",
       "       [-0.73262093, -1.54131161],\n",
       "       [ 0.97376667,  0.79132474],\n",
       "       [-1.87021266, -0.74408147],\n",
       "       [ 0.12057287, -0.24212175],\n",
       "       [ 1.44776323, -1.03935189],\n",
       "       [-1.11181817, -1.6003657 ],\n",
       "       [ 0.97376667,  1.82477122],\n",
       "       [-0.06902575,  2.00193347],\n",
       "       [ 0.97376667, -0.8326626 ],\n",
       "       [-0.35342368,  1.26375741],\n",
       "       [-0.25862437,  0.17125685],\n",
       "       [ 0.02577356, -0.24212175],\n",
       "       [ 1.92175979,  0.93895995],\n",
       "       [-0.73262093,  1.38186558],\n",
       "       [-1.68061404, -0.98029781],\n",
       "       [-1.77541335,  0.02362163],\n",
       "       [-0.92221955,  0.28936502],\n",
       "       [ 0.40497081,  2.35625798],\n",
       "       [-1.77541335,  0.20078389],\n",
       "       [ 0.78416805,  0.1417298 ],\n",
       "       [-0.16382506, -0.44881104],\n",
       "       [ 1.06856599,  2.12004164],\n",
       "       [-0.73262093,  1.1161222 ],\n",
       "       [-1.30141679,  0.43700023],\n",
       "       [-0.06902575,  0.31889206],\n",
       "       [-0.92221955,  0.58463544],\n",
       "       [-0.82742024, -0.24212175],\n",
       "       [ 0.40497081, -0.12401358],\n",
       "       [-1.11181817,  0.49605431],\n",
       "       [-0.5430223 ,  0.49605431],\n",
       "       [ 1.35296392,  0.61416248],\n",
       "       [ 0.02577356, -0.56691921],\n",
       "       [-1.11181817, -1.00982485],\n",
       "       [ 0.02577356, -0.56691921],\n",
       "       [ 2.0165591 , -1.1869871 ],\n",
       "       [ 0.40497081,  0.02362163],\n",
       "       [-1.11181817, -1.6003657 ],\n",
       "       [ 0.97376667,  1.91335235],\n",
       "       [ 0.12057287, -0.30117583],\n",
       "       [ 0.59456943, -0.89171668],\n",
       "       [-0.25862437, -1.24604119],\n",
       "       [-0.25862437, -0.56691921],\n",
       "       [-0.25862437,  0.08267572],\n",
       "       [ 0.97376667,  2.12004164],\n",
       "       [ 0.40497081, -0.12401358],\n",
       "       [ 0.49977012,  1.8838253 ],\n",
       "       [ 0.40497081,  0.28936502],\n",
       "       [-0.92221955,  0.46652727],\n",
       "       [ 0.78416805,  0.28936502],\n",
       "       [-1.49101542, -1.51178457],\n",
       "       [-0.06902575,  0.17125685],\n",
       "       [ 0.97376667,  0.1417298 ],\n",
       "       [-0.63782162, -1.51178457],\n",
       "       [ 0.40497081,  0.61416248],\n",
       "       [-0.06902575, -0.419284  ],\n",
       "       [-0.92221955, -0.95077077],\n",
       "       [-0.25862437,  0.64368952],\n",
       "       [-0.63782162,  0.58463544],\n",
       "       [ 0.68936874, -1.27556823],\n",
       "       [-1.49101542, -0.18306766],\n",
       "       [ 0.12057287,  0.28936502],\n",
       "       [-0.25862437, -1.30509527],\n",
       "       [-0.92221955, -0.30117583],\n",
       "       [-1.3962161 , -0.6259733 ],\n",
       "       [ 1.25816461,  1.91335235],\n",
       "       [-0.73262093,  0.58463544],\n",
       "       [ 0.87896736, -0.59644626],\n",
       "       [ 1.1633653 ,  0.5551084 ],\n",
       "       [-1.20661748, -1.06887893],\n",
       "       [ 0.21537218,  0.17125685],\n",
       "       [-0.5430223 ,  0.90943291],\n",
       "       [-0.44822299, -0.27164879],\n",
       "       [ 0.3101715 ,  0.08267572],\n",
       "       [-0.63782162, -1.6003657 ],\n",
       "       [-1.01701886, -0.36022992],\n",
       "       [ 0.12057287,  0.11220276],\n",
       "       [-1.49101542, -0.419284  ],\n",
       "       [ 0.02577356,  0.05314868],\n",
       "       [-1.11181817, -1.15746006],\n",
       "       [-1.77541335, -1.48225753],\n",
       "       [-0.25862437, -0.74408147],\n",
       "       [-0.92221955, -0.419284  ],\n",
       "       [ 1.44776323,  2.17909573],\n",
       "       [-1.3962161 , -1.45273049],\n",
       "       [-0.35342368, -1.30509527],\n",
       "       [ 0.12057287,  1.91335235],\n",
       "       [-0.5430223 ,  1.41139263],\n",
       "       [-0.06902575, -0.21259471],\n",
       "       [-0.16382506,  1.67713601],\n",
       "       [ 2.11135841, -0.68502738],\n",
       "       [-0.82742024,  0.31889206],\n",
       "       [-0.44822299, -1.21651415]])"
      ]
     },
     "execution_count": 40,
     "metadata": {},
     "output_type": "execute_result"
    }
   ],
   "source": [
    "X_train=scaler.fit_transform(X_train)\n",
    "X_train"
   ]
  },
  {
   "cell_type": "code",
   "execution_count": 41,
   "metadata": {},
   "outputs": [
    {
     "data": {
      "text/plain": [
       "(80, 2)"
      ]
     },
     "execution_count": 41,
     "metadata": {},
     "output_type": "execute_result"
    }
   ],
   "source": [
    "X_test=scaler.transform(X_test)\n",
    "X_test.shape"
   ]
  },
  {
   "cell_type": "code",
   "execution_count": 42,
   "metadata": {},
   "outputs": [
    {
     "data": {
      "text/plain": [
       "17.88854381999832"
      ]
     },
     "execution_count": 42,
     "metadata": {},
     "output_type": "execute_result"
    }
   ],
   "source": [
    "#Method-1\n",
    "np.sqrt(X_train.shape[0])"
   ]
  },
  {
   "cell_type": "code",
   "execution_count": 43,
   "metadata": {},
   "outputs": [],
   "source": [
    "k=17"
   ]
  },
  {
   "cell_type": "code",
   "execution_count": 44,
   "metadata": {},
   "outputs": [],
   "source": [
    "from sklearn.neighbors import KNeighborsClassifier\n",
    "knn=KNeighborsClassifier(n_neighbors=k)"
   ]
  },
  {
   "cell_type": "code",
   "execution_count": 45,
   "metadata": {},
   "outputs": [
    {
     "data": {
      "text/plain": [
       "KNeighborsClassifier(algorithm='auto', leaf_size=30, metric='minkowski',\n",
       "                     metric_params=None, n_jobs=None, n_neighbors=17, p=2,\n",
       "                     weights='uniform')"
      ]
     },
     "execution_count": 45,
     "metadata": {},
     "output_type": "execute_result"
    }
   ],
   "source": [
    "# Train Model\n",
    "knn.fit(X_train,y_train)"
   ]
  },
  {
   "cell_type": "code",
   "execution_count": 46,
   "metadata": {},
   "outputs": [],
   "source": [
    "y_pred=knn.predict(X_test)"
   ]
  },
  {
   "cell_type": "code",
   "execution_count": 47,
   "metadata": {},
   "outputs": [
    {
     "data": {
      "text/plain": [
       "(80,)"
      ]
     },
     "execution_count": 47,
     "metadata": {},
     "output_type": "execute_result"
    }
   ],
   "source": [
    "y_pred.shape\n"
   ]
  },
  {
   "cell_type": "code",
   "execution_count": 48,
   "metadata": {},
   "outputs": [
    {
     "data": {
      "text/plain": [
       "0.9125"
      ]
     },
     "execution_count": 48,
     "metadata": {},
     "output_type": "execute_result"
    }
   ],
   "source": [
    "from sklearn.metrics import accuracy_score\n",
    "accuracy_score(y_test,y_pred)"
   ]
  },
  {
   "cell_type": "code",
   "execution_count": 49,
   "metadata": {},
   "outputs": [
    {
     "data": {
      "text/plain": [
       "array([[48,  2],\n",
       "       [ 5, 25]], dtype=int64)"
      ]
     },
     "execution_count": 49,
     "metadata": {},
     "output_type": "execute_result"
    }
   ],
   "source": [
    "from sklearn.metrics import confusion_matrix\n",
    "confusion_matrix(y_test,y_pred)"
   ]
  },
  {
   "cell_type": "code",
   "execution_count": 50,
   "metadata": {},
   "outputs": [],
   "source": [
    "#METHOD-2\n",
    "\n",
    "accuracy=[]\n",
    "\n",
    "for i in range(1,26):\n",
    "    knn=KNeighborsClassifier(n_neighbors=i)\n",
    "    knn.fit(X_train,y_train)\n",
    "    accuracy.append(accuracy_score(y_test,knn.predict(X_test)))"
   ]
  },
  {
   "cell_type": "code",
   "execution_count": 52,
   "metadata": {},
   "outputs": [
    {
     "data": {
      "text/plain": [
       "25"
      ]
     },
     "execution_count": 52,
     "metadata": {},
     "output_type": "execute_result"
    }
   ],
   "source": [
    "len(accuracy)"
   ]
  },
  {
   "cell_type": "code",
   "execution_count": 53,
   "metadata": {},
   "outputs": [
    {
     "data": {
      "text/plain": [
       "[<matplotlib.lines.Line2D at 0x2418796f4e0>]"
      ]
     },
     "execution_count": 53,
     "metadata": {},
     "output_type": "execute_result"
    },
    {
     "data": {
      "image/png": "[encoded data removed]",
      "text/plain": [
       "<Figure size 432x288 with 1 Axes>"
      ]
     },
     "metadata": {
      "needs_background": "light"
     },
     "output_type": "display_data"
    }
   ],
   "source": [
    "plt.plot(range(1,26),accuracy)"
   ]
  },
  {
   "cell_type": "code",
   "execution_count": 54,
   "metadata": {},
   "outputs": [
    {
     "data": {
      "text/plain": [
       "KNeighborsClassifier(algorithm='auto', leaf_size=30, metric='minkowski',\n",
       "                     metric_params=None, n_jobs=None, n_neighbors=13, p=2,\n",
       "                     weights='uniform')"
      ]
     },
     "execution_count": 54,
     "metadata": {},
     "output_type": "execute_result"
    }
   ],
   "source": [
    "knn=KNeighborsClassifier(n_neighbors=13)\n",
    "knn.fit(X_train,y_train)"
   ]
  },
  {
   "cell_type": "code",
   "execution_count": 55,
   "metadata": {},
   "outputs": [],
   "source": [
    "y_pred=knn.predict(X_test)\n"
   ]
  },
  {
   "cell_type": "code",
   "execution_count": 56,
   "metadata": {},
   "outputs": [
    {
     "data": {
      "text/plain": [
       "0.925"
      ]
     },
     "execution_count": 56,
     "metadata": {},
     "output_type": "execute_result"
    }
   ],
   "source": [
    "accuracy_score(y_test,y_pred)"
   ]
  },
  {
   "cell_type": "code",
   "execution_count": 63,
   "metadata": {},
   "outputs": [],
   "source": [
    "def predict_output():\n",
    "    age = int(input(\"Tell me Your Age\"))\n",
    "    salary = int(input(\"What's your Salary?\"))\n",
    "    \n",
    "    X_new=np.array([[age],[salary]]).reshape(1,2)\n",
    "    X_new=scaler.transform(X_new)\n",
    "    \n",
    "    if knn.predict(X_new)[0]==0:\n",
    "        return \"Will not Purchase\"\n",
    "    else:\n",
    "        return \"Will Purchase\""
   ]
  },
  {
   "cell_type": "code",
   "execution_count": 65,
   "metadata": {},
   "outputs": [
    {
     "name": "stdout",
     "output_type": "stream",
     "text": [
      "Tell me Your Age26\n",
      "What's your Salary?34772\n"
     ]
    },
    {
     "data": {
      "text/plain": [
       "'Will not Purchase'"
      ]
     },
     "execution_count": 65,
     "metadata": {},
     "output_type": "execute_result"
    }
   ],
   "source": [
    "predict_output()"
   ]
  },
  {
   "cell_type": "code",
   "execution_count": null,
   "metadata": {},
   "outputs": [],
   "source": []
  }
 ],
 "metadata": {
  "kernelspec": {
   "display_name": "Python 3",
   "language": "python",
   "name": "python3"
  },
  "language_info": {
   "codemirror_mode": {
    "name": "ipython",
    "version": 3
   },
   "file_extension": ".py",
   "mimetype": "text/x-python",
   "name": "python",
   "nbconvert_exporter": "python",
   "pygments_lexer": "ipython3",
   "version": "3.7.3"
  }
 },
 "nbformat": 4,
 "nbformat_minor": 2
}
